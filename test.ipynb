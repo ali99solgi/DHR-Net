{
 "cells": [
  {
   "cell_type": "code",
   "execution_count": 1,
   "metadata": {},
   "outputs": [],
   "source": [
    "from DHR import DHR,hair_segmentation\n",
    "import matplotlib.pyplot as plt\n",
    "import cv2\n"
   ]
  },
  {
   "cell_type": "code",
   "execution_count": null,
   "metadata": {},
   "outputs": [],
   "source": [
    "image = cv2.imread('ISIC_0011327_original.png')\n",
    "mask = cv2.imread('ISIC_0011327_mask.png')\n",
    "\n",
    "mask_pred = hair_segmentation(image)\n",
    "inpainted_image = DHR(image,output_path='ISIC_0011327_inpainted.png',save=True)\n",
    "\n",
    "plt.figure(1) # Image\n",
    "plt.imshow(cv2.cvtColor(image,cv2.COLOR_BGR2RGB)) \n",
    "plt.figure(2) # Ground Truth (Hairs Mask)\n",
    "plt.imshow(cv2.cvtColor(mask,cv2.COLOR_BGR2GRAY),'gray') \n",
    "plt.figure(3) # Result of Hair Segmentation by U-net\n",
    "plt.imshow(mask_pred,'gray') \n",
    "plt.figure(4) # Inpainted Image (Without Hair)\n",
    "plt.imshow(cv2.cvtColor(inpainted_image,cv2.COLOR_BGR2RGB)) \n"
   ]
  }
 ],
 "metadata": {
  "kernelspec": {
   "display_name": "base",
   "language": "python",
   "name": "python3"
  },
  "language_info": {
   "codemirror_mode": {
    "name": "ipython",
    "version": 3
   },
   "file_extension": ".py",
   "mimetype": "text/x-python",
   "name": "python",
   "nbconvert_exporter": "python",
   "pygments_lexer": "ipython3",
   "version": "3.9.13"
  },
  "orig_nbformat": 4,
  "vscode": {
   "interpreter": {
    "hash": "e8755eff31258cf3f68aa399e6f759d79082959dfad6f58a9830d0e0b06355a5"
   }
  }
 },
 "nbformat": 4,
 "nbformat_minor": 2
}
